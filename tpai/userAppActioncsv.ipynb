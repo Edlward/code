{
 "cells": [
  {
   "cell_type": "code",
   "execution_count": 1,
   "metadata": {
    "collapsed": true
   },
   "outputs": [],
   "source": [
    "# 每行代表一个用户的单个App操作流水，各字段之间由逗号分隔，顺序依次为：“userID，installTime，appID”。特别的，\n",
    "# 我们提供了训练数据开始时间之前16天开始连续30天的操作流水，即第1天0点到第31天0点。\n",
    "\n",
    "import matplotlib.pyplot as plt\n",
    "import seaborn as sns\n",
    "import numpy as np\n",
    "%matplotlib inline\n",
    "import pandas as pd\n",
    "\n",
    "path = '~/codedata/tpai/pre/'\n",
    "# trainfile = 'train.csv'\n",
    "# train = pd.read_csv(path + trainfile)\n",
    "user_installed= pd.read_csv(path + 'user_app_actions.csv')\n",
    "appcategory = pd.read_csv(path + 'app_categories.csv')"
   ]
  },
  {
   "cell_type": "code",
   "execution_count": 2,
   "metadata": {},
   "outputs": [
    {
     "data": {
      "text/html": [
       "<div>\n",
       "<table border=\"1\" class=\"dataframe\">\n",
       "  <thead>\n",
       "    <tr style=\"text-align: right;\">\n",
       "      <th></th>\n",
       "      <th>userID</th>\n",
       "      <th>installTime</th>\n",
       "      <th>appID</th>\n",
       "      <th>appCategory</th>\n",
       "    </tr>\n",
       "  </thead>\n",
       "  <tbody>\n",
       "    <tr>\n",
       "      <th>0</th>\n",
       "      <td>1</td>\n",
       "      <td>182032</td>\n",
       "      <td>933</td>\n",
       "      <td>106</td>\n",
       "    </tr>\n",
       "    <tr>\n",
       "      <th>1</th>\n",
       "      <td>5</td>\n",
       "      <td>141354</td>\n",
       "      <td>589</td>\n",
       "      <td>109</td>\n",
       "    </tr>\n",
       "    <tr>\n",
       "      <th>2</th>\n",
       "      <td>5</td>\n",
       "      <td>251727</td>\n",
       "      <td>565</td>\n",
       "      <td>203</td>\n",
       "    </tr>\n",
       "    <tr>\n",
       "      <th>3</th>\n",
       "      <td>5</td>\n",
       "      <td>260932</td>\n",
       "      <td>596</td>\n",
       "      <td>106</td>\n",
       "    </tr>\n",
       "    <tr>\n",
       "      <th>4</th>\n",
       "      <td>5</td>\n",
       "      <td>261318</td>\n",
       "      <td>536</td>\n",
       "      <td>104</td>\n",
       "    </tr>\n",
       "  </tbody>\n",
       "</table>\n",
       "</div>"
      ],
      "text/plain": [
       "   userID  installTime  appID  appCategory\n",
       "0       1       182032    933          106\n",
       "1       5       141354    589          109\n",
       "2       5       251727    565          203\n",
       "3       5       260932    596          106\n",
       "4       5       261318    536          104"
      ]
     },
     "execution_count": 2,
     "metadata": {},
     "output_type": "execute_result"
    }
   ],
   "source": [
    "user_installed = pd.merge(user_installed, appcategory, on='appID', how='left')\n",
    "user_installed.head()"
   ]
  },
  {
   "cell_type": "code",
   "execution_count": 3,
   "metadata": {},
   "outputs": [
    {
     "data": {
      "text/plain": [
       "(6003471, 4)"
      ]
     },
     "execution_count": 3,
     "metadata": {},
     "output_type": "execute_result"
    }
   ],
   "source": [
    "user_installed.shape\n",
    "# user_installed['userID'].value_counts()"
   ]
  },
  {
   "cell_type": "code",
   "execution_count": 4,
   "metadata": {},
   "outputs": [
    {
     "data": {
      "text/html": [
       "<div>\n",
       "<table border=\"1\" class=\"dataframe\">\n",
       "  <thead>\n",
       "    <tr style=\"text-align: right;\">\n",
       "      <th></th>\n",
       "      <th>userID</th>\n",
       "      <th>installTime</th>\n",
       "      <th>appID</th>\n",
       "      <th>appCategory</th>\n",
       "    </tr>\n",
       "  </thead>\n",
       "  <tbody>\n",
       "    <tr>\n",
       "      <th>userID</th>\n",
       "      <td>1.000000</td>\n",
       "      <td>0.003008</td>\n",
       "      <td>0.003076</td>\n",
       "      <td>-0.001855</td>\n",
       "    </tr>\n",
       "    <tr>\n",
       "      <th>installTime</th>\n",
       "      <td>0.003008</td>\n",
       "      <td>1.000000</td>\n",
       "      <td>0.028704</td>\n",
       "      <td>-0.030428</td>\n",
       "    </tr>\n",
       "    <tr>\n",
       "      <th>appID</th>\n",
       "      <td>0.003076</td>\n",
       "      <td>0.028704</td>\n",
       "      <td>1.000000</td>\n",
       "      <td>-0.072800</td>\n",
       "    </tr>\n",
       "    <tr>\n",
       "      <th>appCategory</th>\n",
       "      <td>-0.001855</td>\n",
       "      <td>-0.030428</td>\n",
       "      <td>-0.072800</td>\n",
       "      <td>1.000000</td>\n",
       "    </tr>\n",
       "  </tbody>\n",
       "</table>\n",
       "</div>"
      ],
      "text/plain": [
       "               userID  installTime     appID  appCategory\n",
       "userID       1.000000     0.003008  0.003076    -0.001855\n",
       "installTime  0.003008     1.000000  0.028704    -0.030428\n",
       "appID        0.003076     0.028704  1.000000    -0.072800\n",
       "appCategory -0.001855    -0.030428 -0.072800     1.000000"
      ]
     },
     "execution_count": 4,
     "metadata": {},
     "output_type": "execute_result"
    },
    {
     "data": {
      "image/png": "[encoded data removed]",
      "text/plain": [
       "<matplotlib.figure.Figure at 0x7fc55e6d1f50>"
      ]
     },
     "metadata": {},
     "output_type": "display_data"
    }
   ],
   "source": [
    "# feats = ['appcategory', 'label']\n",
    "corr = user_installed.corr()\n",
    "fig = plt.figure(figsize=(12,10))\n",
    "sns.heatmap(corr, vmax=.8, square=True)\n",
    "corr"
   ]
  }
 ],
 "metadata": {
  "kernelspec": {
   "display_name": "Python 2",
   "language": "python",
   "name": "python2"
  },
  "language_info": {
   "codemirror_mode": {
    "name": "ipython",
    "version": 2
   },
   "file_extension": ".py",
   "mimetype": "text/x-python",
   "name": "python",
   "nbconvert_exporter": "python",
   "pygments_lexer": "ipython2",
   "version": "2.7.12"
  }
 },
 "nbformat": 4,
 "nbformat_minor": 2
}
