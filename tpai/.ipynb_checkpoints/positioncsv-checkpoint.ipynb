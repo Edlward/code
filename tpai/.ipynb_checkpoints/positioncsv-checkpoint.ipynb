{
 "cells": [
  {
   "cell_type": "code",
   "execution_count": 1,
   "metadata": {
    "collapsed": true
   },
   "outputs": [],
   "source": [
    "# 每行描述一个广告位，各字段之间由逗号分隔，顺序依次为：“positionID，sitesetID，positionType”。\n",
    "import pandas as pd\n",
    "import matplotlib.pyplot as plt\n",
    "import seaborn as sns\n",
    "import numpy as np\n",
    "%matplotlib inline\n",
    "path = '~/codedata/tpai/pre/'\n",
    "train = pd.read_csv(path + 'train.csv')\n",
    "position = pd.read_csv(path + 'position.csv')\n",
    "train = pd.merge(train, position, on = 'positionID', how='left')"
   ]
  },
  {
   "cell_type": "code",
   "execution_count": 2,
   "metadata": {},
   "outputs": [
    {
     "data": {
      "text/html": [
       "<div>\n",
       "<table border=\"1\" class=\"dataframe\">\n",
       "  <thead>\n",
       "    <tr style=\"text-align: right;\">\n",
       "      <th></th>\n",
       "      <th>label</th>\n",
       "      <th>clickTime</th>\n",
       "      <th>conversionTime</th>\n",
       "      <th>creativeID</th>\n",
       "      <th>userID</th>\n",
       "      <th>positionID</th>\n",
       "      <th>connectionType</th>\n",
       "      <th>telecomsOperator</th>\n",
       "      <th>sitesetID</th>\n",
       "      <th>positionType</th>\n",
       "    </tr>\n",
       "  </thead>\n",
       "  <tbody>\n",
       "    <tr>\n",
       "      <th>0</th>\n",
       "      <td>0</td>\n",
       "      <td>170000</td>\n",
       "      <td>NaN</td>\n",
       "      <td>3089</td>\n",
       "      <td>2798058</td>\n",
       "      <td>293</td>\n",
       "      <td>1</td>\n",
       "      <td>1</td>\n",
       "      <td>0</td>\n",
       "      <td>3</td>\n",
       "    </tr>\n",
       "    <tr>\n",
       "      <th>1</th>\n",
       "      <td>0</td>\n",
       "      <td>170000</td>\n",
       "      <td>NaN</td>\n",
       "      <td>1259</td>\n",
       "      <td>463234</td>\n",
       "      <td>6161</td>\n",
       "      <td>1</td>\n",
       "      <td>2</td>\n",
       "      <td>0</td>\n",
       "      <td>1</td>\n",
       "    </tr>\n",
       "    <tr>\n",
       "      <th>2</th>\n",
       "      <td>0</td>\n",
       "      <td>170000</td>\n",
       "      <td>NaN</td>\n",
       "      <td>4465</td>\n",
       "      <td>1857485</td>\n",
       "      <td>7434</td>\n",
       "      <td>4</td>\n",
       "      <td>1</td>\n",
       "      <td>0</td>\n",
       "      <td>1</td>\n",
       "    </tr>\n",
       "    <tr>\n",
       "      <th>3</th>\n",
       "      <td>0</td>\n",
       "      <td>170000</td>\n",
       "      <td>NaN</td>\n",
       "      <td>1004</td>\n",
       "      <td>2038823</td>\n",
       "      <td>977</td>\n",
       "      <td>1</td>\n",
       "      <td>1</td>\n",
       "      <td>0</td>\n",
       "      <td>1</td>\n",
       "    </tr>\n",
       "    <tr>\n",
       "      <th>4</th>\n",
       "      <td>0</td>\n",
       "      <td>170000</td>\n",
       "      <td>NaN</td>\n",
       "      <td>1887</td>\n",
       "      <td>2015141</td>\n",
       "      <td>3688</td>\n",
       "      <td>1</td>\n",
       "      <td>1</td>\n",
       "      <td>0</td>\n",
       "      <td>1</td>\n",
       "    </tr>\n",
       "  </tbody>\n",
       "</table>\n",
       "</div>"
      ],
      "text/plain": [
       "   label  clickTime  conversionTime  creativeID   userID  positionID  \\\n",
       "0      0     170000             NaN        3089  2798058         293   \n",
       "1      0     170000             NaN        1259   463234        6161   \n",
       "2      0     170000             NaN        4465  1857485        7434   \n",
       "3      0     170000             NaN        1004  2038823         977   \n",
       "4      0     170000             NaN        1887  2015141        3688   \n",
       "\n",
       "   connectionType  telecomsOperator  sitesetID  positionType  \n",
       "0               1                 1          0             3  \n",
       "1               1                 2          0             1  \n",
       "2               4                 1          0             1  \n",
       "3               1                 1          0             1  \n",
       "4               1                 1          0             1  "
      ]
     },
     "execution_count": 2,
     "metadata": {},
     "output_type": "execute_result"
    }
   ],
   "source": [
    "train.shape\n",
    "train.head()"
   ]
  },
  {
   "cell_type": "code",
   "execution_count": 3,
   "metadata": {
    "collapsed": true
   },
   "outputs": [],
   "source": [
    "test = {}\n",
    "def property(var, train):\n",
    "    # 点击量的统计直方图     \n",
    "    sns.distplot(train[var], kde=False)\n",
    "    fig = plt.figure()\n",
    "    count = train[var].value_counts()\n",
    "    count_index = count.values < 5\n",
    "    if count_index.any():\n",
    "        train[var].replace(count[count_index].index, 10000, inplace=True)\n",
    "    means = train.groupby(var)['label'].mean()\n",
    "    # 根据var属性的每一个取值做均值     \n",
    "    plt.scatter(x=means.index, y = means.values)\n",
    "    sort_means = means.sort_values(ascending = False)\n",
    "    fig = plt.figure()\n",
    "    # 按顺序画散点图\n",
    "    plt.scatter(x = range(0,len(sort_means)), y = sort_means.values)\n",
    "    return (var, len(train[var].value_counts()), means.max() - means.min(), means.std())"
   ]
  },
  {
   "cell_type": "code",
   "execution_count": 4,
   "metadata": {},
   "outputs": [
    {
     "data": {
      "image/png": "[encoded data removed]",
      "text/plain": [
       "<matplotlib.figure.Figure at 0x7f6a0c239610>"
      ]
     },
     "metadata": {},
     "output_type": "display_data"
    },
    {
     "data": {
      "image/png": "[encoded data removed]",
      "text/plain": [
       "<matplotlib.figure.Figure at 0x7f6a088522d0>"
      ]
     },
     "metadata": {},
     "output_type": "display_data"
    },
    {
     "data": {
      "image/png": "[encoded data removed]",
      "text/plain": [
       "<matplotlib.figure.Figure at 0x7f6a0c225c10>"
      ]
     },
     "metadata": {},
     "output_type": "display_data"
    }
   ],
   "source": [
    "var = 'sitesetID'\n",
    "test[var] = property(var, train)"
   ]
  },
  {
   "cell_type": "code",
   "execution_count": 5,
   "metadata": {},
   "outputs": [
    {
     "data": {
      "image/png": "[encoded data removed]",
      "text/plain": [
       "<matplotlib.figure.Figure at 0x7f6a0c239710>"
      ]
     },
     "metadata": {},
     "output_type": "display_data"
    },
    {
     "data": {
      "image/png": "[encoded data removed]",
      "text/plain": [
       "<matplotlib.figure.Figure at 0x7f6a065f6690>"
      ]
     },
     "metadata": {},
     "output_type": "display_data"
    },
    {
     "data": {
      "image/png": "[encoded data removed]",
      "text/plain": [
       "<matplotlib.figure.Figure at 0x7f6a06415250>"
      ]
     },
     "metadata": {},
     "output_type": "display_data"
    }
   ],
   "source": [
    "# sns.distplot(position['sitesetID'], kde=False)\n",
    "# position[position['sitesetID'] == 2]\n",
    "var = 'positionType'\n",
    "test[var] = property(var, train)"
   ]
  },
  {
   "cell_type": "code",
   "execution_count": 6,
   "metadata": {},
   "outputs": [
    {
     "name": "stdout",
     "output_type": "stream",
     "text": [
      "('sitesetID', 3, 0.02636969602101254, 0.013700972348893198)\n",
      "('positionType', 6, 0.22270724758388133, 0.087460470534174911)\n"
     ]
    }
   ],
   "source": [
    "for (k,v) in test.items():\n",
    "    print v"
   ]
  },
  {
   "cell_type": "code",
   "execution_count": 7,
   "metadata": {},
   "outputs": [
    {
     "data": {
      "text/html": [
       "<div>\n",
       "<table border=\"1\" class=\"dataframe\">\n",
       "  <thead>\n",
       "    <tr style=\"text-align: right;\">\n",
       "      <th></th>\n",
       "      <th>label</th>\n",
       "      <th>sitesetID</th>\n",
       "      <th>positionType</th>\n",
       "    </tr>\n",
       "  </thead>\n",
       "  <tbody>\n",
       "    <tr>\n",
       "      <th>label</th>\n",
       "      <td>1.000000</td>\n",
       "      <td>0.071703</td>\n",
       "      <td>-0.055369</td>\n",
       "    </tr>\n",
       "    <tr>\n",
       "      <th>sitesetID</th>\n",
       "      <td>0.071703</td>\n",
       "      <td>1.000000</td>\n",
       "      <td>-0.770979</td>\n",
       "    </tr>\n",
       "    <tr>\n",
       "      <th>positionType</th>\n",
       "      <td>-0.055369</td>\n",
       "      <td>-0.770979</td>\n",
       "      <td>1.000000</td>\n",
       "    </tr>\n",
       "  </tbody>\n",
       "</table>\n",
       "</div>"
      ],
      "text/plain": [
       "                 label  sitesetID  positionType\n",
       "label         1.000000   0.071703     -0.055369\n",
       "sitesetID     0.071703   1.000000     -0.770979\n",
       "positionType -0.055369  -0.770979      1.000000"
      ]
     },
     "execution_count": 7,
     "metadata": {},
     "output_type": "execute_result"
    },
    {
     "data": {
      "image/png": "[encoded data removed]",
      "text/plain": [
       "<matplotlib.figure.Figure at 0x7f6a0c18e1d0>"
      ]
     },
     "metadata": {},
     "output_type": "display_data"
    }
   ],
   "source": [
    "feats = ['label', 'sitesetID', 'positionType']\n",
    "corr = train[feats].corr()\n",
    "fig = plt.figure(figsize=(12,10))\n",
    "sns.heatmap(corr, vmax=.8, square=True)\n",
    "corr"
   ]
  }
 ],
 "metadata": {
  "kernelspec": {
   "display_name": "Python 2",
   "language": "python",
   "name": "python2"
  },
  "language_info": {
   "codemirror_mode": {
    "name": "ipython",
    "version": 2
   },
   "file_extension": ".py",
   "mimetype": "text/x-python",
   "name": "python",
   "nbconvert_exporter": "python",
   "pygments_lexer": "ipython2",
   "version": "2.7.12"
  }
 },
 "nbformat": 4,
 "nbformat_minor": 2
}
