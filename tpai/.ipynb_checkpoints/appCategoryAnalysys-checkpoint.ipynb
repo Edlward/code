{
 "cells": [
  {
   "cell_type": "code",
   "execution_count": null,
   "metadata": {
    "collapsed": true
   },
   "outputs": [],
   "source": [
    "# 每行代表一个App，各字段之间由逗号分隔，顺序依次为：“appID，appCategory”。\n",
    "import pandas as pd\n",
    "import matplotlib.pyplot as plt\n",
    "import seaborn as sns\n",
    "import numpy as np\n",
    "%matplotlib inline\n",
    "path = '~/codedata/tpai/pre/'\n",
    "\n",
    "appcategory = pd.read_csv(path + 'app_categories.csv')\n",
    "train = pd.read_csv(path + 'train.csv')\n",
    "ad = pd.read_csv(path + 'ad.csv')\n",
    "# appId在creativeID的标号内\n",
    "train = pd.merge(train, ad, on='creativeID',how='left')\n",
    "train = pd.merge(train,appcategory,on='appID',how='left')"
   ]
  }
 ],
 "metadata": {
  "kernelspec": {
   "display_name": "Python 2",
   "language": "python",
   "name": "python2"
  },
  "language_info": {
   "codemirror_mode": {
    "name": "ipython",
    "version": 2
   },
   "file_extension": ".py",
   "mimetype": "text/x-python",
   "name": "python",
   "nbconvert_exporter": "python",
   "pygments_lexer": "ipython2",
   "version": "2.7.12"
  }
 },
 "nbformat": 4,
 "nbformat_minor": 2
}
