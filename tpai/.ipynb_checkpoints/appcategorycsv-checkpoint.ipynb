{
 "cells": [
  {
   "cell_type": "code",
   "execution_count": 1,
   "metadata": {
    "collapsed": true
   },
   "outputs": [],
   "source": [
    "# 每行代表一个App，各字段之间由逗号分隔，顺序依次为：“appID，appCategory”。\n",
    "import pandas as pd\n",
    "import matplotlib.pyplot as plt\n",
    "import seaborn as sns\n",
    "import numpy as np\n",
    "%matplotlib inline\n",
    "path = '~/codedata/tpai/pre/'"
   ]
  },
  {
   "cell_type": "code",
   "execution_count": 2,
   "metadata": {
    "collapsed": true
   },
   "outputs": [],
   "source": [
    "appcategory = pd.read_csv(path + 'app_categories.csv')\n",
    "train = pd.read_csv(path + 'train.csv')\n",
    "ad = pd.read_csv(path + 'ad.csv')\n",
    "# appId在creativeID的标号内\n",
    "train = pd.merge(train, ad, on='creativeID',how='left')\n",
    "train = pd.merge(train,appcategory,on='appID',how='left')"
   ]
  },
  {
   "cell_type": "code",
   "execution_count": 3,
   "metadata": {},
   "outputs": [
    {
     "data": {
      "text/html": [
       "<div>\n",
       "<table border=\"1\" class=\"dataframe\">\n",
       "  <thead>\n",
       "    <tr style=\"text-align: right;\">\n",
       "      <th></th>\n",
       "      <th>label</th>\n",
       "      <th>clickTime</th>\n",
       "      <th>conversionTime</th>\n",
       "      <th>creativeID</th>\n",
       "      <th>userID</th>\n",
       "      <th>positionID</th>\n",
       "      <th>connectionType</th>\n",
       "      <th>telecomsOperator</th>\n",
       "      <th>adID</th>\n",
       "      <th>camgaignID</th>\n",
       "      <th>advertiserID</th>\n",
       "      <th>appID</th>\n",
       "      <th>appPlatform</th>\n",
       "      <th>appCategory</th>\n",
       "    </tr>\n",
       "  </thead>\n",
       "  <tbody>\n",
       "    <tr>\n",
       "      <th>0</th>\n",
       "      <td>0</td>\n",
       "      <td>170000</td>\n",
       "      <td>NaN</td>\n",
       "      <td>3089</td>\n",
       "      <td>2798058</td>\n",
       "      <td>293</td>\n",
       "      <td>1</td>\n",
       "      <td>1</td>\n",
       "      <td>1321</td>\n",
       "      <td>83</td>\n",
       "      <td>10</td>\n",
       "      <td>434</td>\n",
       "      <td>1</td>\n",
       "      <td>108</td>\n",
       "    </tr>\n",
       "    <tr>\n",
       "      <th>1</th>\n",
       "      <td>0</td>\n",
       "      <td>170000</td>\n",
       "      <td>NaN</td>\n",
       "      <td>1259</td>\n",
       "      <td>463234</td>\n",
       "      <td>6161</td>\n",
       "      <td>1</td>\n",
       "      <td>2</td>\n",
       "      <td>1535</td>\n",
       "      <td>685</td>\n",
       "      <td>80</td>\n",
       "      <td>14</td>\n",
       "      <td>2</td>\n",
       "      <td>2</td>\n",
       "    </tr>\n",
       "    <tr>\n",
       "      <th>2</th>\n",
       "      <td>0</td>\n",
       "      <td>170000</td>\n",
       "      <td>NaN</td>\n",
       "      <td>4465</td>\n",
       "      <td>1857485</td>\n",
       "      <td>7434</td>\n",
       "      <td>4</td>\n",
       "      <td>1</td>\n",
       "      <td>147</td>\n",
       "      <td>460</td>\n",
       "      <td>3</td>\n",
       "      <td>465</td>\n",
       "      <td>1</td>\n",
       "      <td>209</td>\n",
       "    </tr>\n",
       "    <tr>\n",
       "      <th>3</th>\n",
       "      <td>0</td>\n",
       "      <td>170000</td>\n",
       "      <td>NaN</td>\n",
       "      <td>1004</td>\n",
       "      <td>2038823</td>\n",
       "      <td>977</td>\n",
       "      <td>1</td>\n",
       "      <td>1</td>\n",
       "      <td>411</td>\n",
       "      <td>564</td>\n",
       "      <td>3</td>\n",
       "      <td>465</td>\n",
       "      <td>1</td>\n",
       "      <td>209</td>\n",
       "    </tr>\n",
       "    <tr>\n",
       "      <th>4</th>\n",
       "      <td>0</td>\n",
       "      <td>170000</td>\n",
       "      <td>NaN</td>\n",
       "      <td>1887</td>\n",
       "      <td>2015141</td>\n",
       "      <td>3688</td>\n",
       "      <td>1</td>\n",
       "      <td>1</td>\n",
       "      <td>369</td>\n",
       "      <td>144</td>\n",
       "      <td>84</td>\n",
       "      <td>360</td>\n",
       "      <td>1</td>\n",
       "      <td>201</td>\n",
       "    </tr>\n",
       "  </tbody>\n",
       "</table>\n",
       "</div>"
      ],
      "text/plain": [
       "   label  clickTime  conversionTime  creativeID   userID  positionID  \\\n",
       "0      0     170000             NaN        3089  2798058         293   \n",
       "1      0     170000             NaN        1259   463234        6161   \n",
       "2      0     170000             NaN        4465  1857485        7434   \n",
       "3      0     170000             NaN        1004  2038823         977   \n",
       "4      0     170000             NaN        1887  2015141        3688   \n",
       "\n",
       "   connectionType  telecomsOperator  adID  camgaignID  advertiserID  appID  \\\n",
       "0               1                 1  1321          83            10    434   \n",
       "1               1                 2  1535         685            80     14   \n",
       "2               4                 1   147         460             3    465   \n",
       "3               1                 1   411         564             3    465   \n",
       "4               1                 1   369         144            84    360   \n",
       "\n",
       "   appPlatform  appCategory  \n",
       "0            1          108  \n",
       "1            2            2  \n",
       "2            1          209  \n",
       "3            1          209  \n",
       "4            1          201  "
      ]
     },
     "execution_count": 3,
     "metadata": {},
     "output_type": "execute_result"
    }
   ],
   "source": [
    "train.head()"
   ]
  },
  {
   "cell_type": "code",
   "execution_count": 16,
   "metadata": {},
   "outputs": [
    {
     "name": "stdout",
     "output_type": "stream",
     "text": [
      "<class 'pandas.core.series.Series'>\n"
     ]
    },
    {
     "data": {
      "text/plain": [
       "appCategory\n",
       "0      0.423841\n",
       "407    0.203723\n",
       "203    0.096585\n",
       "106    0.044643\n",
       "402    0.037568\n",
       "104    0.034928\n",
       "503    0.031987\n",
       "201    0.031498\n",
       "101    0.030474\n",
       "301    0.028042\n",
       "209    0.020328\n",
       "2      0.015487\n",
       "108    0.006938\n",
       "408    0.000000\n",
       "Name: label, dtype: float64"
      ]
     },
     "execution_count": 16,
     "metadata": {},
     "output_type": "execute_result"
    },
    {
     "data": {
      "image/png": "[encoded data removed]",
      "text/plain": [
       "<matplotlib.figure.Figure at 0x7fce9d13e310>"
      ]
     },
     "metadata": {},
     "output_type": "display_data"
    },
    {
     "data": {
      "image/png": "[encoded data removed]",
      "text/plain": [
       "<matplotlib.figure.Figure at 0x7fce9d13e410>"
      ]
     },
     "metadata": {},
     "output_type": "display_data"
    }
   ],
   "source": [
    "# appID其实只有app类别属性，应该可以被替代\n",
    "var = 'appCategory'\n",
    "sns.distplot(train[var],kde=False)\n",
    "fig = plt.figure()\n",
    "means = train.groupby(var)['label'].mean()\n",
    "plt.xlim(0,600)\n",
    "plt.scatter(x=means.index, y=means.values)\n",
    "print type(means)\n",
    "means.sort_values(ascending=False)\n",
    "# sns.jointplot(x=means.index,y=means.values, xlim=(0,600), dropna=False)\n",
    "# data = pd.concat([appcategory['appID'], appcategory['appCategory']], axis = 1)\n",
    "# data.plot.scatter(x='appID', y='appCategory')"
   ]
  },
  {
   "cell_type": "code",
   "execution_count": null,
   "metadata": {
    "collapsed": true
   },
   "outputs": [],
   "source": [
    "# appID其实只有app类别属性，应该可以被替代\n",
    "var = 'appCategory'\n",
    "sns.distplot(train[var],kde=False)\n",
    "fig = plt.figure()\n",
    "means = train.groupby(var)['label'].mean()\n",
    "plt.xlim(0,600)\n",
    "plt.scatter(x=means.index, y=means.values)\n",
    "print type(means)\n",
    "means.sort_values(ascending=False)\n",
    "# sns.jointplot(x=means.index,y=means.values, xlim=(0,600), dropna=False)\n",
    "# data = pd.concat([appcategory['appID'], appcategory['appCategory']], axis = 1)\n",
    "# data.plot.scatter(x='appID', y='appCategory')"
   ]
  },
  {
   "cell_type": "code",
   "execution_count": 6,
   "metadata": {},
   "outputs": [
    {
     "name": "stdout",
     "output_type": "stream",
     "text": [
      "             appCategory     label\n",
      "appCategory     1.000000  0.043988\n",
      "label           0.043988  1.000000\n"
     ]
    },
    {
     "data": {
      "text/plain": [
       "<matplotlib.axes._subplots.AxesSubplot at 0x7feffb05d450>"
      ]
     },
     "execution_count": 6,
     "metadata": {},
     "output_type": "execute_result"
    },
    {
     "data": {
      "image/png": "[encoded data removed]",
      "text/plain": [
       "<matplotlib.figure.Figure at 0x7feffb0528d0>"
      ]
     },
     "metadata": {},
     "output_type": "display_data"
    }
   ],
   "source": [
    "feats = ['appCategory', 'label']\n",
    "corr = train[feats].corr()\n",
    "fig = plt.figure()\n",
    "print corr\n",
    "sns.heatmap(corr, vmax=.8, square=True)\n"
   ]
  }
 ],
 "metadata": {
  "kernelspec": {
   "display_name": "Python 2",
   "language": "python",
   "name": "python2"
  },
  "language_info": {
   "codemirror_mode": {
    "name": "ipython",
    "version": 2
   },
   "file_extension": ".py",
   "mimetype": "text/x-python",
   "name": "python",
   "nbconvert_exporter": "python",
   "pygments_lexer": "ipython2",
   "version": "2.7.12"
  }
 },
 "nbformat": 4,
 "nbformat_minor": 2
}
